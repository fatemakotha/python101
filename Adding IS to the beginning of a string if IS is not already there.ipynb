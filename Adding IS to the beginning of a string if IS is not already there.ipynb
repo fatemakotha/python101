{
 "cells": [
  {
   "cell_type": "code",
   "execution_count": 2,
   "metadata": {},
   "outputs": [
    {
     "name": "stdout",
     "output_type": "stream",
     "text": [
      "IsDense\n",
      "IsHollow\n"
     ]
    }
   ],
   "source": [
    "#Write a Python program to get a new string from a given string where \"Is\" has been added to the front. If the given string already begins with \"Is\" then return the string unchanged.\n",
    "def new_string(str):\n",
    "  if len(str) >= 2 and str[:2] == \"Is\":\n",
    "    return str#return if yes\n",
    "  return \"Is\" + str#return if no\n",
    "\n",
    "print(new_string(\"Dense\"))\n",
    "print(new_string(\"IsHollow\"))"
   ]
  }
 ],
 "metadata": {
  "interpreter": {
   "hash": "f18963a0f5ba34d2f130e89b4a4486737cc183122d9a000baf33a674fedc7181"
  },
  "kernelspec": {
   "display_name": "Python 3.8.5 64-bit ('base': conda)",
   "language": "python",
   "name": "python3"
  },
  "language_info": {
   "codemirror_mode": {
    "name": "ipython",
    "version": 3
   },
   "file_extension": ".py",
   "mimetype": "text/x-python",
   "name": "python",
   "nbconvert_exporter": "python",
   "pygments_lexer": "ipython3",
   "version": "3.8.5"
  },
  "orig_nbformat": 4
 },
 "nbformat": 4,
 "nbformat_minor": 2
}
