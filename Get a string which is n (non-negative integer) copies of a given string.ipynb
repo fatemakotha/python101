{
 "cells": [
  {
   "cell_type": "code",
   "execution_count": 6,
   "metadata": {},
   "outputs": [
    {
     "name": "stdout",
     "output_type": "stream",
     "text": [
      "HiHiHiHi\n",
      "HereHereHereHereHereHere\n"
     ]
    }
   ],
   "source": [
    "#Write a Python program to get a string which is n (non-negative integer) copies of a given string.\n",
    "def larger_string(str, n):\n",
    "   result = \"\"\n",
    "   for i in range(n):\n",
    "      result = result + str\n",
    "   return result\n",
    "\n",
    "print(larger_string('Hi', 4))\n",
    "print(larger_string('Here', 6))"
   ]
  }
 ],
 "metadata": {
  "interpreter": {
   "hash": "f18963a0f5ba34d2f130e89b4a4486737cc183122d9a000baf33a674fedc7181"
  },
  "kernelspec": {
   "display_name": "Python 3.8.5 64-bit ('base': conda)",
   "language": "python",
   "name": "python3"
  },
  "language_info": {
   "codemirror_mode": {
    "name": "ipython",
    "version": 3
   },
   "file_extension": ".py",
   "mimetype": "text/x-python",
   "name": "python",
   "nbconvert_exporter": "python",
   "pygments_lexer": "ipython3",
   "version": "3.8.5"
  },
  "orig_nbformat": 4
 },
 "nbformat": 4,
 "nbformat_minor": 2
}
